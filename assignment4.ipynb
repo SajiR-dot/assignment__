{
 "cells": [
  {
   "cell_type": "code",
   "execution_count": 1,
   "id": "d4c24636-8a3f-46c2-9437-a666ba2b139d",
   "metadata": {},
   "outputs": [
    {
     "name": "stdout",
     "output_type": "stream",
     "text": [
      "1\n",
      "2\n",
      "3\n",
      "4\n",
      "5\n",
      "6\n",
      "7\n",
      "8\n",
      "9\n",
      "10\n"
     ]
    }
   ],
   "source": [
    "# For loop \n",
    "\n",
    "# Question 1\n",
    "\n",
    "# Write a Python program to print numbers from 1 to 10 using a for loop\n",
    "\n",
    "#Initialize a for loop with range function()\n",
    "\n",
    "for num in range(1,11):\n",
    "    print(num)  #print the numbers\n"
   ]
  },
  {
   "cell_type": "code",
   "execution_count": null,
   "id": "56c9a019-1689-410e-8d8d-76b06eebe6d7",
   "metadata": {},
   "outputs": [],
   "source": []
  },
  {
   "cell_type": "code",
   "execution_count": null,
   "id": "c2f571da-08a6-43cd-986b-98507d8fb56e",
   "metadata": {},
   "outputs": [],
   "source": []
  },
  {
   "cell_type": "code",
   "execution_count": null,
   "id": "8186e14d-69e3-49a0-9ecc-cd2abb434f9e",
   "metadata": {},
   "outputs": [],
   "source": [
    "# Question 2\n",
    "\n",
    "# Explain the difference between a for loop and a while loop in Python.\n",
    "\n",
    "# FOR LOOP\n",
    "\n",
    "# for loop is used when the number of iterations is known\n",
    "\n",
    "# for loop is used to iterate over Python tuple, list, string, or range.\n",
    "\n",
    "# SYNTAX --> for i in condition:\n",
    "\n",
    "                 # statements\n",
    "\n",
    "# Ex:  for i in range(): --this is the syntax for looping over a range\n",
    "\n",
    "# We can use other iterables like dictionaries,tuples, lists\n",
    "\n",
    "\n",
    "# WHILE LOOP\n",
    "\n",
    "# while loop is used when the number of iterations in unknown\n",
    "\n",
    "# It is executed when the conditions is True it executes until the condition turns False\n",
    "\n",
    "# SYNTAX --> while condition:\n",
    "\n",
    "              # statements\n",
    "    \n",
    "# Ex: n=0\n",
    "\n",
    " # While n<5:\n",
    "    #print(n)\n",
    "    # n+=1\n"
   ]
  },
  {
   "cell_type": "code",
   "execution_count": 2,
   "id": "3c62fa86-c202-4a72-b91b-203aa582b819",
   "metadata": {},
   "outputs": [
    {
     "name": "stdout",
     "output_type": "stream",
     "text": [
      "The total is =  5050\n"
     ]
    }
   ],
   "source": [
    "# Question 3\n",
    "\n",
    "# Write a Python program to calculate the sum of all numbers from 1 to 100 using a for loop.\n",
    "\n",
    "# Initialize a for loop with range 1 to 101\n",
    "\n",
    "total = 0 # Initialize a variable total with 0\n",
    "\n",
    "for num in range(1,101):\n",
    "    total+=num\n",
    "    \n",
    "print(\"The total is = \",total) # Print the total\n",
    "    "
   ]
  },
  {
   "cell_type": "code",
   "execution_count": 3,
   "id": "dd1a28f6-292f-4058-b3e4-bd075a37df38",
   "metadata": {},
   "outputs": [
    {
     "name": "stdout",
     "output_type": "stream",
     "text": [
      "1\n",
      "2\n",
      "3\n",
      "4\n",
      "5\n"
     ]
    }
   ],
   "source": [
    "# Question 4\n",
    "\n",
    "# How do you iterate through a list using a for loop in Python?\n",
    "\n",
    "sample_list = [1,2,3,4,5]\n",
    "\n",
    "# Take a sample list\n",
    "\n",
    "for i in sample_list: # using the for loop  iterate through the sample_list\n",
    "    print(i) # the variable 'i' is a temporary variable which stores the value one by one\n",
    "            # The value is printed one by one like 1, 2,3 and so on ....\n",
    "    "
   ]
  },
  {
   "cell_type": "code",
   "execution_count": 5,
   "id": "43932c04-7da2-4563-adfb-3c919947d9d9",
   "metadata": {},
   "outputs": [
    {
     "name": "stdout",
     "output_type": "stream",
     "text": [
      "The product is the 120\n"
     ]
    }
   ],
   "source": [
    "# Question 5\n",
    "\n",
    "# Write a Python program to find the product of all elements in a list using a for loop.\n",
    "\n",
    "sample_list = [1,2,3,4,5] # initialize a sample list\n",
    "\n",
    "\n",
    "product = 1 # initialize the variable product to 1\n",
    "\n",
    "# initialize a for loop \n",
    "\n",
    "for i in sample_list:\n",
    "    product*=i\n",
    "    \n",
    "print(\"The product is the\",product) # print the product \n",
    "    \n"
   ]
  },
  {
   "cell_type": "code",
   "execution_count": 1,
   "id": "2750b033-a001-4fae-b60c-5c47ec719803",
   "metadata": {},
   "outputs": [
    {
     "name": "stdout",
     "output_type": "stream",
     "text": [
      "2 4 6 8 10 12 14 16 18 20 "
     ]
    }
   ],
   "source": [
    "# Question 6 \n",
    "\n",
    "# Create a Python program that prints all even numbers from 1 to 20 using a for loop.\n",
    "\n",
    "# Initialize a for loop using the range()\n",
    "\n",
    "for i in range(1,21): # The range is given from 1 to 21 as the last element 21 is not included\n",
    "    if i%2==0:        # if the number is divisible by 2 without remainder it is an even number\n",
    "        print(i,end = \" \") # The even numbers are printed\n",
    "    "
   ]
  },
  {
   "cell_type": "code",
   "execution_count": 6,
   "id": "36c81b32-11c9-427a-b288-fc4890749b8a",
   "metadata": {},
   "outputs": [
    {
     "name": "stdin",
     "output_type": "stream",
     "text": [
      "Enter the number 6\n"
     ]
    },
    {
     "name": "stdout",
     "output_type": "stream",
     "text": [
      "The factorial is 720\n"
     ]
    }
   ],
   "source": [
    "# Question 7\n",
    "\n",
    "# Write a Python program that calculates the factorial of a number using a for loop.\n",
    "\n",
    "# define a function fact() which takes a single parameter n\n",
    "\n",
    "def fact(n):\n",
    "    product = 1              # initialize a local variable product to 1\n",
    "    for i in range(1,n+1):\n",
    "        product*=i\n",
    "    return product  # return the product\n",
    "\n",
    "# Calling the function\n",
    "n = int(input(\"Enter the number\")) #Getting the user input\n",
    "\n",
    "print(f\"The factorial is {fact(n)}\") # printing the result\n",
    "        \n",
    "    "
   ]
  },
  {
   "cell_type": "code",
   "execution_count": 8,
   "id": "ee2e7c00-92e2-4a37-8fc7-bd4e32206a02",
   "metadata": {},
   "outputs": [
    {
     "name": "stdout",
     "output_type": "stream",
     "text": [
      "s\n",
      "a\n",
      "j\n",
      "e\n",
      "e\n",
      "t\n",
      "h\n"
     ]
    }
   ],
   "source": [
    "# Question 8\n",
    "\n",
    "# How can you iterate through the characters of a string using a for loop in Python?\n",
    "\n",
    "# Initializing a sample string\n",
    "\n",
    "s = \"sajeeth\"\n",
    "\n",
    "# initializing a for loop\n",
    "\n",
    "for character in s: # The for loop iterates the string one by one and stores in the temporary variable character\n",
    "    print(character) # The characters in the string gets printed one by one like s, a, j ...so on \n",
    "    "
   ]
  },
  {
   "cell_type": "code",
   "execution_count": 11,
   "id": "1cac3ff5-c04f-4385-ad9c-26cfebd1eb24",
   "metadata": {},
   "outputs": [
    {
     "name": "stdout",
     "output_type": "stream",
     "text": [
      "The largest number 88\n"
     ]
    }
   ],
   "source": [
    "# Question 9\n",
    "\n",
    "# Write a Python program to find the largest number in a list using a for loop\n",
    "\n",
    "# Initialize a sample list with integers\n",
    "\n",
    "sample_list = [2,3,4,5,88,73]\n",
    "\n",
    "largest = sample_list[0] # Assuming that the largest element is in the 0 th index of the list\n",
    "\n",
    "# initialize a for loop \n",
    "\n",
    "for num in range(0,len(sample_list)):  # loop till the range of the length of the list calculate the len() function\n",
    "    if sample_list[num]>largest: # if the number in the index i is greater than the largest that element becomes largest\n",
    "        largest = sample_list[num]\n",
    "\n",
    "print(f\"The largest number {largest}\") # largest number is printed"
   ]
  },
  {
   "cell_type": "code",
   "execution_count": 1,
   "id": "b9f5b0f6-39ef-42df-90af-7bea6a64e2e3",
   "metadata": {},
   "outputs": [
    {
     "name": "stdin",
     "output_type": "stream",
     "text": [
      "Enter the number: 5\n"
     ]
    },
    {
     "name": "stdout",
     "output_type": "stream",
     "text": [
      "Fibonacci Series: 0 1 1 2 3 \n"
     ]
    }
   ],
   "source": [
    "# Question 10\n",
    "\n",
    "# Create a Python program that prints the Fibonacci sequence up to a specified limit using a for loop.\n",
    "\n",
    "num = int(input(\"Enter the number:\")) # get the input from the user and store it in num\n",
    "\n",
    "n1, n2 = 0, 1\n",
    "print(\"Fibonacci Series:\", n1, n2, end=\" \")\n",
    "for i in range(2, num):\n",
    "    n3 = n1 + n2\n",
    "    n1 = n2\n",
    "    n2 = n3\n",
    "    print(n3, end=\" \")\n",
    "\n",
    "print()"
   ]
  },
  {
   "cell_type": "code",
   "execution_count": 6,
   "id": "e15cbf7a-7dc9-466c-8557-4f4494c32d1a",
   "metadata": {},
   "outputs": [
    {
     "name": "stdin",
     "output_type": "stream",
     "text": [
      "Enter a string saji is everywhre\n"
     ]
    },
    {
     "name": "stdout",
     "output_type": "stream",
     "text": [
      "The number of vowels in 'saji is everywhre' is 6\n"
     ]
    }
   ],
   "source": [
    "# Question 11\n",
    "\n",
    "# Write a Python program to count the number of vowels in a given string using a for loop.\n",
    "\n",
    "# Initialize the list of vowels\n",
    "\n",
    "vowels = ['a','e','i','o','u']\n",
    "\n",
    "s = input(\"Enter a string\").lower() # get the input from the user\n",
    "\n",
    "vowels_count = 0 # initalize a variable to count the vowels\n",
    "\n",
    "for i in s:  # looping through the user inputted string\n",
    "    if i in vowels: # if the charcter is in the vowels increment the count to 1\n",
    "        vowels_count+=1\n",
    "    else:\n",
    "        vowels_count = vowels_count\n",
    "print(f\"The number of vowels in '{s}' is {vowels_count}\") # print the result"
   ]
  },
  {
   "cell_type": "code",
   "execution_count": 8,
   "id": "f52dbf3a-c713-4144-a98f-45af65d19e0d",
   "metadata": {},
   "outputs": [
    {
     "name": "stdin",
     "output_type": "stream",
     "text": [
      "Enter the number:  10\n",
      "Enter the limit:  30\n"
     ]
    },
    {
     "name": "stdout",
     "output_type": "stream",
     "text": [
      " 10 * 1 = 10\n",
      " 10 * 2 = 20\n",
      " 10 * 3 = 30\n",
      " 10 * 4 = 40\n",
      " 10 * 5 = 50\n",
      " 10 * 6 = 60\n",
      " 10 * 7 = 70\n",
      " 10 * 8 = 80\n",
      " 10 * 9 = 90\n",
      " 10 * 10 = 100\n",
      " 10 * 11 = 110\n",
      " 10 * 12 = 120\n",
      " 10 * 13 = 130\n",
      " 10 * 14 = 140\n",
      " 10 * 15 = 150\n",
      " 10 * 16 = 160\n",
      " 10 * 17 = 170\n",
      " 10 * 18 = 180\n",
      " 10 * 19 = 190\n",
      " 10 * 20 = 200\n",
      " 10 * 21 = 210\n",
      " 10 * 22 = 220\n",
      " 10 * 23 = 230\n",
      " 10 * 24 = 240\n",
      " 10 * 25 = 250\n",
      " 10 * 26 = 260\n",
      " 10 * 27 = 270\n",
      " 10 * 28 = 280\n",
      " 10 * 29 = 290\n",
      " 10 * 30 = 300\n"
     ]
    }
   ],
   "source": [
    "# Question 12\n",
    "\n",
    "# Create a Python program that generates a multiplication table for a given number using a for loop.\n",
    "\n",
    "n = int(input(\"Enter the number: \")) # The user input is stored in the variable n\n",
    "limit = int(input(\"Enter the limit: \")) # the limit inputted is stored in the limit variable\n",
    "\n",
    "# initialise a for loop with the given range\n",
    "\n",
    "for i in range(1,limit+1):\n",
    "    print(f\" {n} * {i} = {n*i}\") # Print the multiplication table"
   ]
  },
  {
   "cell_type": "code",
   "execution_count": 14,
   "id": "e5de1fad-2cd8-41db-a651-4c19b63c925c",
   "metadata": {},
   "outputs": [
    {
     "name": "stdout",
     "output_type": "stream",
     "text": [
      "The list is [1, 2, 3, 4, 5, 6, 7, 8, 9]\n",
      "The reverse of the list is [9, 8, 7, 6, 5, 4, 3, 2, 1]\n"
     ]
    }
   ],
   "source": [
    "# Question 13\n",
    "\n",
    "# Write a Python program to reverse a list using a for loop.\n",
    "\n",
    "# initialize a sample llst\n",
    "\n",
    "sample_list = [1,2,3,4,5,6,7,8,9]\n",
    "reverse_list = []\n",
    "\n",
    "# initialize a for loop \n",
    "\n",
    "for i in sample_list[::-1]:\n",
    "    reverse_list.append(i)\n",
    "    \n",
    "print(\"The list is\",sample_list)\n",
    "print(f\"The reverse of the list is {reverse_list}\")\n",
    "    "
   ]
  },
  {
   "cell_type": "code",
   "execution_count": 15,
   "id": "dc75d4f0-e434-4686-94bc-c430fb9c22d4",
   "metadata": {},
   "outputs": [
    {
     "name": "stdout",
     "output_type": "stream",
     "text": [
      "The common elements are [1, 2, 3, 4, 5, 6]\n"
     ]
    }
   ],
   "source": [
    "# Question 14\n",
    "\n",
    "# Write a Python program to find the common elements between two lists using a for loop.\n",
    "\n",
    "sample_list1 = [1,2,3,4,5,6,71,88,92] # initialize two sample lists\n",
    "sample_list2 = [1,2,3,4,5,6,7,8,9]\n",
    "common = [] # declare the empty list common \n",
    "# initialize a for loops to loop through most the list\n",
    "\n",
    "for element in sample_list1: # if the element is common append the element to the common list\n",
    "    if element in sample_list2:\n",
    "        common.append(element)\n",
    "print(f\"The common elements are {common}\")"
   ]
  },
  {
   "cell_type": "code",
   "execution_count": 7,
   "id": "5f19e392-c6ed-4f4f-a6a3-5064649e8fa7",
   "metadata": {},
   "outputs": [
    {
     "name": "stdout",
     "output_type": "stream",
     "text": [
      "sam\n",
      "60\n",
      "saji\n",
      "80\n",
      "mani\n",
      "82\n",
      "gokul\n",
      "85\n",
      "mithun\n",
      "90\n",
      "\n",
      "The alternate method using the items()\t\n",
      "\n",
      "sam\n",
      "60\n",
      "saji\n",
      "80\n",
      "mani\n",
      "82\n",
      "gokul\n",
      "85\n",
      "mithun\n",
      "90\n"
     ]
    }
   ],
   "source": [
    "# Question 15 \n",
    "\n",
    "# Explain how to use a for loop to iterate through the keys and values of a dictionary in Python.\n",
    "\n",
    "# initialize the dictionary with keys and values\n",
    "\n",
    "sample_dict_scores = {\"sam\":60, \"saji\":80,\"mani\":82,\"gokul\":85,\"mithun\":90}\n",
    "\n",
    "# initialize a for loop to iterate through the keys and values\n",
    "\n",
    "for i in sample_dict_scores: # here the elements we get through the iteration are keys\n",
    "    print(i) # ex: we get sam, saji, mani so on ...\n",
    "    print(sample_dict_scores[i]) # by using those keys we can access the values respectively\n",
    "\n",
    "# Alternate method\n",
    "print(\"\\nThe alternate method using the items()\\t\\n\")\n",
    "for keys,value in sample_dict_scores.items():\n",
    "    print(keys) # we can access the keys and values using the items method\n",
    "    print(value)\n"
   ]
  },
  {
   "cell_type": "code",
   "execution_count": 6,
   "id": "ad1c4b0f-b517-4d5d-bfee-0147a1a9c96c",
   "metadata": {},
   "outputs": [
    {
     "name": "stdin",
     "output_type": "stream",
     "text": [
      "Enter the value of num1: 6\n",
      "Enter the value of num2: 9\n"
     ]
    },
    {
     "name": "stdout",
     "output_type": "stream",
     "text": [
      "The gcd of 6,9 is 3\n"
     ]
    }
   ],
   "source": [
    "# Question 16\n",
    "\n",
    "# Write a Python program to find the GCD (Greatest Common Divisor) of two numbers using a for loop.\n",
    "\n",
    "# get the input from the user and store it in variables num1 and num2\n",
    "\n",
    "num1 = int(input(\"Enter the value of num1:\"))\n",
    "num2 = int(input(\"Enter the value of num2:\"))\n",
    "\n",
    "gcd = 1 # initialize the variable gcd to 1\n",
    "\n",
    "for i in range(1,min(num1,num2)): # we use the range function and create a range from 1 to the min of the two numbers\n",
    "    \n",
    "    if num1%i ==0 and num2%i==0: # if both the numbers are divisible by a number without remainder that number is the gcd\n",
    "        gcd = i # gcd is updated\n",
    "print(f\"The gcd of {num1},{num2} is {gcd}\") # print the output\n"
   ]
  },
  {
   "cell_type": "code",
   "execution_count": 13,
   "id": "d70c4adf-32a6-4fea-8a18-44fcbc60a448",
   "metadata": {},
   "outputs": [
    {
     "name": "stdin",
     "output_type": "stream",
     "text": [
      "Enter the string saji\n"
     ]
    },
    {
     "name": "stdout",
     "output_type": "stream",
     "text": [
      "The string 'saji' is not a palindrome\n"
     ]
    }
   ],
   "source": [
    "# Question 17\n",
    "\n",
    "# Create a Python program that checks if a string is a palindrome using a for loop.\n",
    "\n",
    "# initialize a string and get the user input\n",
    "\n",
    "s = input(\"Enter the string\")\n",
    "\n",
    "\n",
    "# use for loop to iterate the string\n",
    "\n",
    "palindrome = True # set a variable palindrome to true \n",
    "\n",
    "for i in range(0,int(len(s)/2)): #run the loop half the times of the string length\n",
    "    if s[i]!=s[len(s)-i-1]: #  if the last two letter are not equal it means the string is not a palindrome \n",
    "        \n",
    "        palindrome = False # Set the palindrome variable to false\n",
    "        \n",
    "if palindrome: # Print the result using if condition\n",
    "    print(f\"The string '{s}' is a palindrome\")\n",
    "else:\n",
    "    print(f\"The string '{s}' is not a palindrome\")"
   ]
  },
  {
   "cell_type": "code",
   "execution_count": 3,
   "id": "7db146e8-6d26-4196-ae87-f361a4d27c00",
   "metadata": {},
   "outputs": [
    {
     "data": {
      "text/plain": [
       "str"
      ]
     },
     "execution_count": 3,
     "metadata": {},
     "output_type": "execute_result"
    }
   ],
   "source": [
    "type(s)"
   ]
  },
  {
   "cell_type": "code",
   "execution_count": 4,
   "id": "3faa9ef7-c49b-4294-91d4-129427609d3f",
   "metadata": {},
   "outputs": [
    {
     "data": {
      "text/plain": [
       "str"
      ]
     },
     "execution_count": 4,
     "metadata": {},
     "output_type": "execute_result"
    }
   ],
   "source": [
    "type(s1)"
   ]
  },
  {
   "cell_type": "code",
   "execution_count": 22,
   "id": "c4d66eb0-98c2-4567-8c6e-1f3213bef473",
   "metadata": {},
   "outputs": [
    {
     "name": "stdout",
     "output_type": "stream",
     "text": [
      "The duplicate removed list is [4, 5, 6]\n"
     ]
    }
   ],
   "source": [
    "# Question 18\n",
    "\n",
    "# Write a Python program to remove duplicates from a list using a for loop.\n",
    "\n",
    "# initialize a sample list\n",
    "\n",
    "sample_list = [4,5,5,6,6]\n",
    "\n",
    "filtered = [] # initialize a list filtered \n",
    "# loop through the sample_list\n",
    "for i in sample_list:\n",
    "    if i not in filtered:\n",
    "        filtered.append(i) # if the element is not in the list append else the element is equal to the current element\n",
    "    else:\n",
    "        i=i\n",
    "    \n",
    "print(f\"The duplicate removed list is {filtered}\") # print the result\n",
    "  \n",
    "    \n"
   ]
  },
  {
   "cell_type": "code",
   "execution_count": 25,
   "id": "03c1bb44-99e1-47e6-a861-71ec2c803abb",
   "metadata": {},
   "outputs": [
    {
     "name": "stdin",
     "output_type": "stream",
     "text": [
      "Enter the sentence: what my name is who my name is chika chika slim shady\n"
     ]
    },
    {
     "name": "stdout",
     "output_type": "stream",
     "text": [
      "The words in the sentence '['what', 'my', 'name', 'is', 'who', 'my', 'name', 'is', 'chika', 'chika', 'slim', 'shady']' are '12'\n",
      "['what', 'my', 'name', 'is', 'who', 'my', 'name', 'is', 'chika', 'chika', 'slim', 'shady']\n"
     ]
    }
   ],
   "source": [
    "# Question 19\n",
    "\n",
    "# Create a Python program that counts the number of words in a sentence using a for loop.\n",
    "\n",
    "# The user input is stored in the variable sentence\n",
    "\n",
    "sentence = input(\"Enter the sentence:\").split()\n",
    "\n",
    "word = 0 # initialize a variable word to count the number of words\n",
    "\n",
    "# loop through the sentence using for loop \n",
    "\n",
    "for i in sentence: # for every word in the sentence increment the word variable by 1\n",
    "    word+=1\n",
    "print(f\"The words in the sentence '{sentence}' are '{word}'\") # print the result"
   ]
  },
  {
   "cell_type": "code",
   "execution_count": 26,
   "id": "045945e9-7cd0-49ef-9670-cd4e05bba3f3",
   "metadata": {},
   "outputs": [
    {
     "name": "stdout",
     "output_type": "stream",
     "text": [
      "The sum of all the odd numbers from 1 to 50 is = 625\n"
     ]
    }
   ],
   "source": [
    "# Question 20\n",
    "\n",
    "# Write a Python program to find the sum of all odd numbers from 1 to 50 using a for loop.\n",
    "\n",
    "total = 0 # initialize a variable to store the total \n",
    "\n",
    "# initialize a for loop from range 1 to 51\n",
    "\n",
    "for i in range(1,51):\n",
    "    if i%2!=0:\n",
    "        total+=i\n",
    "print(f\"The sum of all the odd numbers from 1 to 50 is = {total}\") # print the result\n"
   ]
  },
  {
   "cell_type": "code",
   "execution_count": 1,
   "id": "f3ab2c98-c9ce-428f-bbbe-7267507def45",
   "metadata": {},
   "outputs": [
    {
     "name": "stdin",
     "output_type": "stream",
     "text": [
      "Enter the year 2030\n"
     ]
    },
    {
     "name": "stdout",
     "output_type": "stream",
     "text": [
      "2\n",
      "0\n",
      "3\n",
      "0\n"
     ]
    }
   ],
   "source": [
    "# Question 21\n",
    "\n",
    "# Write a Python program that checks if a given year is a leap year using a for loop.\n",
    "\n",
    "# The user input should be stored in the list\n",
    "for year in input(\"Enter the year\"):\n",
    "    print(year)\n"
   ]
  },
  {
   "cell_type": "code",
   "execution_count": 3,
   "id": "c0c44052-2615-4bbc-85cb-7a38d8a8f01e",
   "metadata": {},
   "outputs": [
    {
     "name": "stdout",
     "output_type": "stream",
     "text": [
      "4\n",
      "9\n",
      "16\n",
      "25\n",
      "36\n"
     ]
    }
   ],
   "source": [
    "# Question 22\n",
    "\n",
    "# Create a Python program that calculates the square root of a number using a for loop.\n",
    " \n",
    "# Initialize a list with sample numbers \n",
    "\n",
    "sample_numbers = [2,3,4,5,6]\n",
    "\n",
    "# loop through the list\n",
    "for number in sample_numbers:\n",
    "    print(number**2) #The square root of the numbers are printed"
   ]
  },
  {
   "cell_type": "code",
   "execution_count": 7,
   "id": "67631ed5-aab1-44bf-a131-143af0924551",
   "metadata": {},
   "outputs": [
    {
     "name": "stdin",
     "output_type": "stream",
     "text": [
      "Enter the value of number 1 6\n",
      "Enter the value of number 2 3\n"
     ]
    },
    {
     "name": "stdout",
     "output_type": "stream",
     "text": [
      "6\n"
     ]
    }
   ],
   "source": [
    "# Question 23\n",
    "\n",
    "# Write a Python program to find the LCM (Least Common Multiple) of two numbers using a for loop.\n",
    "\n",
    "\n",
    "# store the user input in the variables num1 and num2\n",
    "\n",
    "num1 = int(input(\"Enter the value of number 1\"))\n",
    "num2 = int(input(\"Enter the value of number 2\"))\n",
    "\n",
    "lcm =1 # initialize the variable lcm to 1\n",
    "\n",
    "for i in range(max(num1,num2),num1*num2 +1): # set up a range from the max of two elements to the product of the two numbers\n",
    "    if i%num1==i%num2==0:\n",
    "        lcm=i\n",
    "        break\n",
    "print(lcm)\n"
   ]
  },
  {
   "cell_type": "code",
   "execution_count": 11,
   "id": "7871a7d7-ab50-4686-9137-5188a4a2e6fb",
   "metadata": {},
   "outputs": [
    {
     "name": "stdin",
     "output_type": "stream",
     "text": [
      "Enter the number 0\n"
     ]
    },
    {
     "name": "stdout",
     "output_type": "stream",
     "text": [
      "The number is zero\n"
     ]
    }
   ],
   "source": [
    "# IF ELSE\n",
    "\n",
    "# Question 1\n",
    "\n",
    "# Write a Python program to check if a number is positive, negative, or zero using an if-else statement.\n",
    "\n",
    "# The input from the user is stored in the variable number\n",
    "\n",
    "number = int(input(\"Enter the number\"))\n",
    "\n",
    "if number == 0:\n",
    "    print(\"The number is zero\")\n",
    "    \n",
    "elif number<0:   # if the number is less than 0 it is negative else it is positive\n",
    "    print(f\"The number {number} is negative\")\n",
    "else:\n",
    "    print(f\"The number {number} is positive\")\n"
   ]
  },
  {
   "cell_type": "code",
   "execution_count": 4,
   "id": "87667809-0e55-461e-802e-26c4c0d2549a",
   "metadata": {},
   "outputs": [
    {
     "name": "stdin",
     "output_type": "stream",
     "text": [
      "Enter the number 22\n"
     ]
    },
    {
     "name": "stdout",
     "output_type": "stream",
     "text": [
      "The number 22 is even\n"
     ]
    }
   ],
   "source": [
    "# Question 2\n",
    "\n",
    "# Create a Python program that checks if a given number is even or odd using an if-else statement.\n",
    "\n",
    "# The input from the user is stored in a variable number\n",
    "\n",
    "number = int(input(\"Enter the number\"))\n",
    "\n",
    "if number%2==0:\n",
    "    print(f\"The number {number} is even\")\n",
    "else:\n",
    "    print(f\"The number {number} is odd\")"
   ]
  },
  {
   "cell_type": "code",
   "execution_count": 3,
   "id": "2ab27a65-65c0-40c7-bca7-af03de8d73f2",
   "metadata": {},
   "outputs": [
    {
     "name": "stdin",
     "output_type": "stream",
     "text": [
      "Do you want to ride the roller coaster Y Or N n\n"
     ]
    },
    {
     "name": "stdout",
     "output_type": "stream",
     "text": [
      "Enjoy the other rides\n"
     ]
    }
   ],
   "source": [
    "# Question 3\n",
    "\n",
    "# How can you use nested if-else statements in Python, and provide an example?\n",
    "\n",
    "# nested if else statements are if inside the if statement block\n",
    "\n",
    "# This example is about a rollercoaster ride\n",
    "\n",
    "ride = input(\"Do you want to ride the roller coaster Y Or N\").lower() # ask the user whether they want to ride or not\n",
    "\n",
    "if ride=='y': # if yes the ask the age\n",
    "    age = int(input(\"Enter the age\"))  # get the age input\n",
    "    if age>18: # if age is greater check the height\n",
    "        height = int(input(\"Enter the height\")) # get the height input\n",
    "        if height>160: # if height is greater than 160 the user can ride\n",
    "            print(\"You can ride the roller coaster!\")\n",
    "        else:\n",
    "            print(\"Sorry you cant ride the rollercoaster\") # else this message is printed\n",
    "    else:\n",
    "        print(\"Your age should be greater than 18!\")    \n",
    "    \n",
    "else:\n",
    "    print(\"Enjoy the other rides\")\n"
   ]
  },
  {
   "cell_type": "code",
   "execution_count": 9,
   "id": "ca92d6cd-8340-482b-a579-fc627372dcad",
   "metadata": {},
   "outputs": [
    {
     "name": "stdin",
     "output_type": "stream",
     "text": [
      "Enter the value of num1: 12\n",
      "Enter the value of num3: 32\n",
      "Enter the value of num3: 2\n"
     ]
    },
    {
     "name": "stdout",
     "output_type": "stream",
     "text": [
      "number 32 is the largest\n"
     ]
    }
   ],
   "source": [
    "# Question 4\n",
    "\n",
    "# Write a Python program to determine the largest of three numbers using if-else.\n",
    "\n",
    "# store the user inputs in three variables num1,num2,num3\n",
    "\n",
    "num1 = int(input(\"Enter the value of num1:\"))\n",
    "num2 = int(input(\"Enter the value of num3:\"))\n",
    "num3 = int(input(\"Enter the value of num3:\"))\n",
    "\n",
    "#1,2,3\n",
    "\n",
    "if num1>num2 and num1>num3:\n",
    "    print(f\"Number {num1} is the largest\")\n",
    "elif num2>num1 and num2>num3:\n",
    "    print(f\"number {num2} is the largest\")\n",
    "else:\n",
    "    print(f\"number {num3} is the largest\")\n",
    "        "
   ]
  },
  {
   "cell_type": "code",
   "execution_count": 11,
   "id": "82ff9bd3-cd35-4a02-989a-2bc7cf41f150",
   "metadata": {},
   "outputs": [
    {
     "name": "stdin",
     "output_type": "stream",
     "text": [
      "Enter the value of num: 0\n"
     ]
    },
    {
     "name": "stdout",
     "output_type": "stream",
     "text": [
      "The absolute value is 0\n"
     ]
    }
   ],
   "source": [
    "# Question 5\n",
    "\n",
    "# Write a Python program that calculates the absolute value of a number using if-else.\n",
    "\n",
    "# store the user input in the variable num\n",
    "\n",
    "num = int(input(\"Enter the value of num:\"))\n",
    "if num<0:\n",
    "    print(f\"The absolute value is {-num}\") #if the value is negative return the positive of that number \n",
    "else:\n",
    "    print(f\"The absolute value is {num}\") # if the value is positive return the numbers as is\n"
   ]
  },
  {
   "cell_type": "code",
   "execution_count": 13,
   "id": "327c8599-8193-44e5-8569-2dd7de1a300b",
   "metadata": {},
   "outputs": [
    {
     "name": "stdin",
     "output_type": "stream",
     "text": [
      "Enter the character z\n"
     ]
    },
    {
     "name": "stdout",
     "output_type": "stream",
     "text": [
      "Character 'z' is a consonant\n"
     ]
    }
   ],
   "source": [
    "# Question 6\n",
    "\n",
    "# Create a Python program that checks if a given character is a vowel or consonant using if-else.\n",
    "\n",
    "# store the user input in a variable c\n",
    "\n",
    "c = input(\"Enter the character\").lower()\n",
    "\n",
    "if c in ['a','e','i','o','u']: # Check if the character is in the vowels list\n",
    "    print(f\"Character '{c}' is a vowel\")\n",
    "else:\n",
    "    print(f\"Character '{c}' is a consonant\")\n",
    "    "
   ]
  },
  {
   "cell_type": "code",
   "execution_count": 14,
   "id": "004b2098-ef71-4bb2-899a-8ba760da3383",
   "metadata": {},
   "outputs": [
    {
     "name": "stdin",
     "output_type": "stream",
     "text": [
      "Enter the age: 17\n"
     ]
    },
    {
     "name": "stdout",
     "output_type": "stream",
     "text": [
      "You are not eligible for voting , You should get Older\n"
     ]
    }
   ],
   "source": [
    "# Question 7\n",
    "\n",
    "# Write a Python program to determine if a user is eligible to vote based on their age using if-else.\n",
    "\n",
    "age = int(input(\"Enter the age:\")) # get the user input and store it in age\n",
    "\n",
    "if age<18: # check if the age is less than 18\n",
    "    print(\"You are not eligible for voting , You should get Older\")\n",
    "elif age>=18: # checks if the age is greater or equal to 18\n",
    "    print(f\"You are eligible for voting, your age is {age}\")"
   ]
  },
  {
   "cell_type": "code",
   "execution_count": 16,
   "id": "85af777a-4b0f-4dac-9580-039e572f0cde",
   "metadata": {},
   "outputs": [
    {
     "name": "stdin",
     "output_type": "stream",
     "text": [
      "Enter the purchase amount: 16000\n"
     ]
    },
    {
     "name": "stdout",
     "output_type": "stream",
     "text": [
      "The discount is 6000\n",
      "The total amount is 10000 Rs\n"
     ]
    }
   ],
   "source": [
    "# Question 8\n",
    "\n",
    "# Create a Python program that calculates the discount amount based on the purchase amount using if-else.\n",
    "\n",
    "# store the user input inside the variable purchase_amount\n",
    "purchase_amount = int(input(\"Enter the purchase amount:\"))\n",
    "\n",
    "if purchase_amount>=10000 and purchase_amount<=15000:\n",
    "    discount_amount = 5000 # if the purchase amount is between this range the discount is calculated\n",
    "    total = purchase_amount-discount_amount\n",
    "    print(f\"The discount is {discount_amount}\\nThe total amount is {total} Rs\") # The total amount is printed\n",
    "elif purchase_amount>15000 and purchase_amount<=20000:\n",
    "    discount_amount = 6000\n",
    "    total = purchase_amount-discount_amount\n",
    "    print(f\"The discount is {discount_amount}\\nThe total amount is {total} Rs\")\n",
    "else:\n",
    "    print(\"Sorry currently no discounts for these purchases\")\n",
    "    "
   ]
  },
  {
   "cell_type": "code",
   "execution_count": 21,
   "id": "0856b7a1-58bc-4bf4-8098-2a264cbe090b",
   "metadata": {},
   "outputs": [
    {
     "name": "stdin",
     "output_type": "stream",
     "text": [
      "Enter the number within 10 to 20:  12\n"
     ]
    },
    {
     "name": "stdout",
     "output_type": "stream",
     "text": [
      "The number 12 is within the specified range\n"
     ]
    }
   ],
   "source": [
    "# Question 9\n",
    "\n",
    "# Write a Python program to check if a number is within a specified range using if-else.\n",
    "\n",
    "# store the user input in the variable number\n",
    "number = int(input(\"Enter the number within 10 to 20: \"))\n",
    "\n",
    "if 20>=number>=10:\n",
    "    print(f\"The number {number} is within the specified range\")\n",
    "else:\n",
    "    print(\"The number is not within the range\") #print the output"
   ]
  },
  {
   "cell_type": "code",
   "execution_count": 1,
   "id": "785f2e5e-d086-44c1-be2e-8f357751d33d",
   "metadata": {},
   "outputs": [
    {
     "name": "stdin",
     "output_type": "stream",
     "text": [
      "Enter the student score 100\n"
     ]
    },
    {
     "name": "stdout",
     "output_type": "stream",
     "text": [
      "Your grade is 'A' ,Excellent\n"
     ]
    }
   ],
   "source": [
    "# Question 10\n",
    "\n",
    "# Create a Python program that determines the grade of a student based on their score using if-else.\n",
    "\n",
    "student_score = int(input(\"Enter the student score\")) # The user input is stored in the variable student score\n",
    "\n",
    "if student_score<=0: #check the student scores inputed and prints a output if that block is true\n",
    "    print(\"Enter a valid score\")\n",
    "elif student_score<=30:\n",
    "    print(\"your grade is 'D' you need to work hard\")\n",
    "elif student_score>30 and student_score<=60:\n",
    "    print(\"Your grade is 'C' you need more improvement\")\n",
    "elif student_score >60 and student_score<=70:\n",
    "    print(\"Your grade is 'B', You are good\")\n",
    "elif student_score>70 and student_score<=100:\n",
    "    print(\"Your grade is 'A' ,Excellent\")\n"
   ]
  },
  {
   "cell_type": "code",
   "execution_count": 5,
   "id": "9f129625-29a2-4765-946e-f676388880c0",
   "metadata": {},
   "outputs": [
    {
     "name": "stdin",
     "output_type": "stream",
     "text": [
      "Enter the string: \n"
     ]
    },
    {
     "name": "stdout",
     "output_type": "stream",
     "text": [
      "The string is empty\n"
     ]
    }
   ],
   "source": [
    "# Question 11\n",
    "\n",
    "# Write a Python program to check if a string is empty or not using if-else\n",
    "\n",
    "# store the user input in the variable s\n",
    "\n",
    "s = input(\"Enter the string:\")\n",
    "\n",
    "if s==\"\":\n",
    "    print(\"The string is empty\")\n",
    "    \n",
    "else:\n",
    "    print(f\"The string is '{s}', it is not empty\") # print the result\n",
    "    "
   ]
  },
  {
   "cell_type": "code",
   "execution_count": 6,
   "id": "7f971e2b-d014-4fc3-b80c-8a093e75074d",
   "metadata": {},
   "outputs": [
    {
     "name": "stdin",
     "output_type": "stream",
     "text": [
      "Enter the side of the triangle:  12\n",
      "Enter the side of the triangle:  34\n",
      "Enter the side of the triangle:  43\n"
     ]
    },
    {
     "name": "stdout",
     "output_type": "stream",
     "text": [
      "It is a scalene triangle\n"
     ]
    }
   ],
   "source": [
    "# Question 12\n",
    "\n",
    "# Create a Python program that identifies the type of a triangle (e.g., equilateral, isosceles, or scalene) based on input values using if-else.\n",
    "\n",
    "\n",
    "x = int(input(\"Enter the side of the triangle: \")) # The sides of the triangle is stored in three variables x,y,z\n",
    "y = int(input(\"Enter the side of the triangle: \"))\n",
    "z = int(input(\"Enter the side of the triangle: \"))\n",
    "\n",
    "# check the sides of the triangle \n",
    "\n",
    "if x==y==z:  # if all the sides are equal it is an equilateral triangle\n",
    "    print(\"It is an equilateral triangle\")\n",
    "elif x==y or y==z or z==x: # if any two sides are equal it is an isosceles triangle\n",
    "    print(\"It is an isosceles triangle\") \n",
    "else:\n",
    "    print(\"It is a scalene triangle\") #if neither of the sides are equal it is a scalene triangle\n",
    "\n"
   ]
  },
  {
   "cell_type": "code",
   "execution_count": null,
   "id": "20f786be-8126-4c09-8658-bd6793b146b2",
   "metadata": {},
   "outputs": [],
   "source": [
    "# Question 13\n",
    "\n",
    "# Write a Python program to determine the day of the week based on a user-provided number using if-else.\n",
    "\n",
    "days_of_week = {1:\"monday\", 2:\"Tuesday\", 3:\"wednesday\", 4:\"thursday\",5:\"friday\", 6:\"saturday\",7 :\"sunday\"}\n",
    "\n",
    "# initialize a dictionary consisting the days of the week\n",
    "\n",
    "day = int(input(\"Enter the number of day:\")) # The number of day is stored in the day variable\n",
    "\n",
    "for i in range(1,8): # loop through the dictionary using for loop and access the value by using the key\n",
    "    if day==i:\n",
    "        print(f\"The day is {days_of_week[i]}\")\n",
    "    \n",
    "else:\n",
    "    print(\"Enter a valid input\") # if the user input is invalid this is printed"
   ]
  },
  {
   "cell_type": "code",
   "execution_count": 9,
   "id": "1dae9d9b-dd47-4de5-b439-ada6a2b1acc9",
   "metadata": {},
   "outputs": [
    {
     "name": "stdin",
     "output_type": "stream",
     "text": [
      "Enter the input year 2020\n"
     ]
    },
    {
     "name": "stdout",
     "output_type": "stream",
     "text": [
      "The year 2020 is leap year\n"
     ]
    },
    {
     "data": {
      "text/plain": [
       "'The year 2020 is leap year'"
      ]
     },
     "execution_count": 9,
     "metadata": {},
     "output_type": "execute_result"
    }
   ],
   "source": [
    "# Question 14\n",
    "\n",
    "# Create a Python program that checks if a given year is a leap year using both if-else and a function.\n",
    "\n",
    "# initialize a variable year to store the user input\n",
    "\n",
    "year = int(input(\"Enter the input year\"))\n",
    "\n",
    "if (year % 400 == 0) or (year % 100 != 0) and (year % 4 == 0):\n",
    "    print(f\"The year {year} is leap year\")\n",
    "else:\n",
    "    print(\"The year is not a leap year\")\n",
    "    \n",
    "    \n",
    "# leap year function\n",
    "\n",
    "def leap_year(year): # This function takes one argument\n",
    "    if (year % 400 == 0) or (year % 100 != 0) and (year % 4 == 0):\n",
    "        return f\"The year {year} is leap year\" \n",
    "    else:\n",
    "        return \"The year is not a leap year\"\n",
    "    \n",
    "leap_year(year)    # call the function and pass the year into the function\n"
   ]
  },
  {
   "cell_type": "code",
   "execution_count": null,
   "id": "02853802-a101-4ca8-8cce-8256a9a25f15",
   "metadata": {},
   "outputs": [],
   "source": [
    "# Question 15\n",
    "\n",
    "# How do you use the \"assert\" statement in Python to add debugging checks within if-else blocks?\n",
    "\n",
    "# Uses\n",
    "\n",
    "# The assert statements make sure a condition is met before continuing the execution of the program.\n",
    "\n",
    "# if the condition is not met it throws an error\n"
   ]
  },
  {
   "cell_type": "code",
   "execution_count": 11,
   "id": "50e5d02f-41cd-4135-848e-0d209062967f",
   "metadata": {},
   "outputs": [
    {
     "name": "stdin",
     "output_type": "stream",
     "text": [
      "Enter the age: 70\n"
     ]
    },
    {
     "name": "stdout",
     "output_type": "stream",
     "text": [
      "You are eligible for 10 percent discount\n"
     ]
    }
   ],
   "source": [
    "# Question 16\n",
    "\n",
    "# Create a Python program that determines the eligibility of a person for a senior citizen discount based on age using if-else.\n",
    "\n",
    "age = int(input(\"Enter the age:\")) # get the user input and store it in age\n",
    "\n",
    "if age<50: # check if the age is less than 50\n",
    "    print(\"You are not eligible for discount,\")\n",
    "elif age>=50 and age<=70: # checks if the age is greater than 50 and less than 70\n",
    "    print(\"You are eligible for 10 percent discount\")\n",
    "elif age>70:\n",
    "    print(\"You are eligible for 15 precent discount\")\n"
   ]
  },
  {
   "cell_type": "code",
   "execution_count": 4,
   "id": "fde30ee7-6e4f-4c75-85fc-8e3bd5498023",
   "metadata": {},
   "outputs": [
    {
     "name": "stdin",
     "output_type": "stream",
     "text": [
      "Enter the character: A\n"
     ]
    },
    {
     "name": "stdout",
     "output_type": "stream",
     "text": [
      "The character 'A' is uppercase\n"
     ]
    }
   ],
   "source": [
    "# Question 17\n",
    "\n",
    "# Write a Python program to categorize a given character as uppercase, lowercase, or neither using if-else.\n",
    "\n",
    "# store the user inputted charcter in variable c\n",
    "\n",
    "c = input(\"Enter the character:\")\n",
    "\n",
    "if c.isalpha()==False: # use the isalpha() to check if a character is alphabet or any other\n",
    "    print(\"The character is not an alphabet\")\n",
    "elif c.islower(): # islower() is used to check whether the character is lower case  \n",
    "    print(f\"The character '{c}' is lowercase\")\n",
    "else:\n",
    "    print(f\"The character '{c}' is uppercase\") # if it is not lowercase print it is uppercase\n"
   ]
  },
  {
   "cell_type": "code",
   "execution_count": null,
   "id": "daab83d7-50e8-4d80-bfa5-6ca534fd4315",
   "metadata": {},
   "outputs": [],
   "source": [
    "# Question 18\n",
    "\n",
    "# Create a Python program that checks if a given year is a century year or not using if-else.\n",
    "def century_year:\n",
    "     if (year <= 0):\n",
    "            print(\"Enter a valid year\")\n",
    "    elif(year <= 100):\n",
    "        print(\"The year is a century\")\n",
    "\n",
    "    elif (year % 100 == 0):\n",
    "        \n",
    "            printyear/ 100 <<\" century\"; \n",
    "        else\n",
    "            cout << year/ 100 + 1 << \" century\";"
   ]
  },
  {
   "cell_type": "code",
   "execution_count": null,
   "id": "ea8e3ae1-683f-4ccd-8170-dd9745991b56",
   "metadata": {},
   "outputs": [],
   "source": []
  },
  {
   "cell_type": "code",
   "execution_count": 9,
   "id": "b2be56bd-e25d-47b9-b117-37fcd4560879",
   "metadata": {},
   "outputs": [
    {
     "name": "stdin",
     "output_type": "stream",
     "text": [
      "Enter the number: 36\n"
     ]
    },
    {
     "name": "stdout",
     "output_type": "stream",
     "text": [
      "The number '36' is a perfect square\n"
     ]
    }
   ],
   "source": [
    "# Question 20\n",
    "\n",
    "# Write a Python program to determine if a given number is a perfect square using if-else.\n",
    "\n",
    "import math # import the math module\n",
    "\n",
    "# store the user input in the variable num\n",
    "\n",
    "num = int(input(\"Enter the number:\"))\n",
    "sqrt_num = math.sqrt(num) # store the square root in variable sqrt_num\n",
    "\n",
    "if sqrt_num.is_integer(): # if the square root of number is integer it is a perfect square else it is not\n",
    "    print(f\"The number '{num}' is a perfect square\")\n",
    "else:\n",
    "    print(\"The number is not a perfect square\")"
   ]
  },
  {
   "cell_type": "code",
   "execution_count": 16,
   "id": "10c58c09-e940-4f65-9116-0ca8d4af73fd",
   "metadata": {},
   "outputs": [
    {
     "name": "stdout",
     "output_type": "stream",
     "text": [
      "1\n",
      "2\n",
      "3\n",
      "1\n",
      "2\n",
      "4\n",
      "5\n",
      "6\n"
     ]
    }
   ],
   "source": [
    "# Question 21\n",
    "\n",
    "# Explain the purpose of the \"continue\" and \"break\" statements within if-else loops.\n",
    "\n",
    "# Break\n",
    "\n",
    "# initialize a sample list\n",
    "l = [1,2,3,4,5,6]\n",
    "\n",
    "# loop through the list using for loop \n",
    "for element in l:\n",
    "    print(element) # The element prints till 3 and stops\n",
    "    if element ==3:\n",
    "        break # if the element is 3 the loop breaks and the execution is terminated\n",
    "        \n",
    "# continue\n",
    "\n",
    "for element in l: # The list is itersted using for loop \n",
    "    if element ==3: # if the element is 3 the iteration of this element is skipped\n",
    "        continue\n",
    "    else:\n",
    "        print(element)\n",
    "    \n",
    "    "
   ]
  },
  {
   "cell_type": "code",
   "execution_count": 17,
   "id": "6f9cf7d3-55b0-4665-b24f-d2528136d70f",
   "metadata": {},
   "outputs": [
    {
     "name": "stdin",
     "output_type": "stream",
     "text": [
      "Enter the height: 173\n",
      "Enter the weight: 67\n"
     ]
    },
    {
     "name": "stdout",
     "output_type": "stream",
     "text": [
      "Your Body Mass Index is 22.386314277122523\n",
      "Awesome! You are healthy.\n"
     ]
    }
   ],
   "source": [
    "# Question 22\n",
    "\n",
    "#Create a Python program that calculates the BMI (Body Mass Index) of a person based on their weight and height using if-else.\n",
    "\n",
    "# get the height and weight and store it in height and weight\n",
    "\n",
    "height = float(input(\"Enter the height:\"))\n",
    "weight = float(input(\"Enter the weight:\"))\n",
    "\n",
    "bmi = weight / (height/100)**2  # formula for the bmi\n",
    "# printing the BMI  \n",
    "print(\"Your Body Mass Index is\", bmi)  \n",
    "# using the if-elif-else conditions  \n",
    "if bmi <= 18.5:  \n",
    "    print(\"Oops! You are underweight.\")  \n",
    "elif bmi <= 24.9:  \n",
    "    print(\"Awesome! You are healthy.\")  \n",
    "elif bmi <= 29.9:  \n",
    "    print(\"Eee! You are over weight.\")  \n",
    "else:  \n",
    "    print(\"Seesh! You are obese.\")  "
   ]
  },
  {
   "cell_type": "code",
   "execution_count": 21,
   "id": "6e4e5729-5110-4c80-9695-96dbe65e5537",
   "metadata": {},
   "outputs": [
    {
     "name": "stdout",
     "output_type": "stream",
     "text": [
      "[2, 4, 6, 8]\n"
     ]
    }
   ],
   "source": [
    "# Question 23\n",
    "\n",
    "# How can you use the \"filter()\" function with if-else statements to filter elements from a list?\n",
    "\n",
    "# initialize a sample list with numbers\n",
    "l = [1,2,3,4,5,6,7,8] \n",
    "\n",
    "x = filter(lambda a: a%2==0 ,l) # filter accepts two parameters function and iterable\n",
    "\n",
    "print(list(x))   #This filters out the even numbers\n"
   ]
  },
  {
   "cell_type": "code",
   "execution_count": 29,
   "id": "0861881e-6b2c-4879-bdba-396629e710b0",
   "metadata": {},
   "outputs": [
    {
     "name": "stdin",
     "output_type": "stream",
     "text": [
      "Enter the number:  21\n"
     ]
    },
    {
     "name": "stdout",
     "output_type": "stream",
     "text": [
      "It is not a prime number\n"
     ]
    }
   ],
   "source": [
    "# Question 24\n",
    "\n",
    "# Write a Python program to determine if a given number is prime or not using if-else.\n",
    "\n",
    "# store the user input in variable num\n",
    "\n",
    "num = int(input(\"Enter the number: \"))\n",
    "\n",
    "\n",
    "flag = False  # initially set the flag to fale assuming the number is a prime\n",
    "\n",
    "# initialize a for loop to loop thorugh a range from 2 to the number entered\n",
    "for i in range(2,num):\n",
    "        if num%i==0: # if the number is divisible by i then it is not a prime number\n",
    "            flag = True # Turn the flag to true\n",
    "            break\n",
    "if flag:\n",
    "    print(\"It is not a prime number\")    # print the result\n",
    "    \n",
    "else:\n",
    "    print(\"It is a prime number\")"
   ]
  },
  {
   "cell_type": "code",
   "execution_count": 32,
   "id": "1dff3e2b-309d-4e9d-8634-0743311387d2",
   "metadata": {},
   "outputs": [
    {
     "name": "stdout",
     "output_type": "stream",
     "text": [
      "['ijas', 'wp']\n"
     ]
    }
   ],
   "source": [
    "# MAP\n",
    "\n",
    "# Question 1\n",
    "\n",
    "# Explain the purpose of the `map()` function in Python and provide an example of how it can be used to apply a function to each element of an iterable.\n",
    "\n",
    "\n",
    "# map takes two arguments the function and iterable \n",
    "# The function gets mapped to the element individually one by one\n",
    "\n",
    "# for example,\n",
    "    \n",
    "def reversal(s): # This function takes a single input it reverses the character passed through it\n",
    "    return s[::-1]\n",
    "\n",
    "# sample list l with string\n",
    "\n",
    "l = ['saji','pw']\n",
    "\n",
    "x = list(map(reversal,l)) # The function reversal and the list is passed and the reversal is done one by one\n",
    "\n",
    "print(x)"
   ]
  },
  {
   "cell_type": "code",
   "execution_count": 33,
   "id": "06295e95-3da8-4dd0-a230-11466a7df366",
   "metadata": {},
   "outputs": [
    {
     "name": "stdout",
     "output_type": "stream",
     "text": [
      "The list of squares is [4, 9, 16, 25, 36, 49, 64]\n"
     ]
    }
   ],
   "source": [
    "# Question 2\n",
    "\n",
    "# Write a Python program that uses the `map()` function to square each element of a list of numbers.\n",
    "\n",
    "#initialize a sample list\n",
    "\n",
    "l = [2,3,4,5,6,7,8]\n",
    "\n",
    "def number_square(n): # define a function number square which takes one argument n\n",
    "    return n**2\n",
    "\n",
    "x = list(map(number_square,l)) # The function and list are passed in the map\n",
    "print(f\"The list of squares is {x}\") # The result is printed\n",
    "    "
   ]
  },
  {
   "cell_type": "code",
   "execution_count": null,
   "id": "5ca6a887-b5d7-460d-a1ff-e3ece12072c2",
   "metadata": {},
   "outputs": [],
   "source": [
    "# Question 3\n",
    "\n",
    "# How does the `map()` function differ from a list comprehension in Python, and when would you choose one over the other?\n",
    "\n",
    "# list comprehension is more simpler than map function\n",
    "# In list comprehension  we can use if condition but in map we can't\n",
    "# list comprehension returns a list but map returns an map object\n",
    "\n",
    "# map is faster than list comprehension when the function is already defined without using a lambda\n",
    "# List comprehension execution is faster than that of map function when the formula expression is huge and complex\n",
    "\n",
    "\n"
   ]
  },
  {
   "cell_type": "code",
   "execution_count": 35,
   "id": "656731c7-14f6-418b-8911-819150858643",
   "metadata": {},
   "outputs": [
    {
     "name": "stdout",
     "output_type": "stream",
     "text": [
      "The uppercase list is '['SAJI', 'PW', 'SKILLS']'\n"
     ]
    }
   ],
   "source": [
    "# Queestion 4\n",
    "\n",
    "# Create a Python program that uses the `map()` function to convert a list of names to uppercase.\n",
    "\n",
    "# initialize a list of names\n",
    "\n",
    "l = ['saji','pw','skills']\n",
    "\n",
    "def upper(c):  # define a function upper with a single argument c\n",
    "    return c.upper()\n",
    "\n",
    "x = list(map(upper,l)) # using map perform the operation\n",
    "\n",
    "print(f\"The uppercase list is '{x}'\") # print the result"
   ]
  },
  {
   "cell_type": "code",
   "execution_count": 36,
   "id": "2342767c-e841-40a4-b965-0815a104d105",
   "metadata": {},
   "outputs": [
    {
     "name": "stdout",
     "output_type": "stream",
     "text": [
      "The length of the words is '[4, 2, 6]'\n"
     ]
    }
   ],
   "source": [
    "# Question 5\n",
    "\n",
    "# Write a Python program that uses the `map()` function to calculate the length of each word in a list of strings.\n",
    "\n",
    "# initialize a list of words\n",
    "\n",
    "l = ['saji','pw','skills']\n",
    "\n",
    "def word_length(word): #define a function to calculate the length using len() \n",
    "    return len(word)\n",
    "\n",
    "\n",
    "x = list(map(word_length,l)) # pass the function and the iterable into the map \n",
    "print(f\"The length of the words is '{x}'\")  # print the result\n"
   ]
  },
  {
   "cell_type": "code",
   "execution_count": 8,
   "id": "649d89ba-9d52-49f1-a18c-ea200b214879",
   "metadata": {},
   "outputs": [
    {
     "name": "stdout",
     "output_type": "stream",
     "text": [
      "[4, 2]\n"
     ]
    }
   ],
   "source": [
    "# Question 6\n",
    "\n",
    "# How can you use the `map()` function to apply a custom function to elements of multiple lists simultaneously in Python?\n",
    "\n",
    "l1 = ['sajo','pw'] # in this case two lists are initialized l1 and l2\n",
    "l2 = ['skill','till']\n",
    "\n",
    "def word_len(l1,l2): # defining a function word_len it accepts two arguments \n",
    "    return len(l1)\n",
    "    return len(l2)  # returns the length of the elements in l1 and l2\n",
    "\n",
    "x = list(map(word_len,l1,l2)) # call the map function passing the function and two iterables;\n",
    "print(x)"
   ]
  },
  {
   "cell_type": "code",
   "execution_count": 2,
   "id": "434acfdc-9a88-4904-9dab-ab466c57ce7f",
   "metadata": {},
   "outputs": [
    {
     "name": "stdout",
     "output_type": "stream",
     "text": [
      "The converted temperatures are [209.48, 171.32, 145.94]\n"
     ]
    }
   ],
   "source": [
    "# Question 7\n",
    "\n",
    "# Create a Python program that uses `map()` to convert a list of temperatures from Celsius to Fahrenheit.\n",
    "\n",
    "# initialize the list with celcius values\n",
    "l = [98.6,77.4,63.3]\n",
    "\n",
    "def temp_converter(n):\n",
    "                                 # define a function temp converteer which takes one argument\n",
    "    return round(n*(9/5) + 32,2) # The round function is used to round the value  \n",
    "\n",
    "x = list(map(temp_converter,l))\n",
    "print(f\"The converted temperatures are {x}\")\n"
   ]
  },
  {
   "cell_type": "code",
   "execution_count": 5,
   "id": "857d72c8-3fb8-483e-a8ed-3a65326db4bc",
   "metadata": {},
   "outputs": [
    {
     "name": "stdout",
     "output_type": "stream",
     "text": [
      "[11, 22, 44, 56]\n"
     ]
    }
   ],
   "source": [
    "# Question 8\n",
    "\n",
    "# Write a Python program that uses the `map()` function to round each element of a list of floating-point numbers to the nearest integer.\n",
    "\n",
    "# initializing a list with floating point numbers\n",
    "l = [10.6,22.3,44.4,55.6]\n",
    "\n",
    "# defining a function to round the values which take one argument as input\n",
    "\n",
    "def rounding(n):\n",
    "    return round(n) # using the round function the floating point values can be rounded to nearest integer\n",
    "\n",
    "\n",
    "x = list(map(rounding,l))\n",
    "print(x) # print the result\n"
   ]
  },
  {
   "cell_type": "code",
   "execution_count": 11,
   "id": "d34be315-38a8-4033-b12a-a21ec344387b",
   "metadata": {},
   "outputs": [
    {
     "name": "stdout",
     "output_type": "stream",
     "text": [
      " The sum of the elements 45\n"
     ]
    }
   ],
   "source": [
    "## REDUCE\n",
    "\n",
    "# Question 1\n",
    "\n",
    "# What is the `reduce()` function in Python, and what module should you import to use it? Provide an example of its basic usage.\n",
    "\n",
    "# The reduce function is used to reduce an iterable\n",
    "# We need to import functools to use the reduce function\n",
    "# The list of elements are taken into two and reduced\n",
    "\n",
    "# for example,\n",
    "\n",
    "from functools import reduce # import the functools\n",
    "# take a sample list\n",
    "\n",
    "l = [1,2,3,4,5,6,7,8,9] #\n",
    "\n",
    "x = reduce(lambda a,b: a+b,l) # using the reduce function find the sum of all the elements\n",
    "\n",
    "print(f\" The sum of the elements {x}\") # print the result\n"
   ]
  },
  {
   "cell_type": "code",
   "execution_count": 12,
   "id": "dd3fe870-4d0a-4b85-acd6-742758783d9c",
   "metadata": {},
   "outputs": [
    {
     "name": "stdout",
     "output_type": "stream",
     "text": [
      " The sum of the elements 362880\n"
     ]
    }
   ],
   "source": [
    "# Question 2\n",
    "\n",
    "# Write a Python program that uses the `reduce()` function to find the product of all elements in a list.\n",
    "\n",
    "\n",
    "from functools import reduce # import the functools\n",
    "# take a sample list\n",
    "\n",
    "l = [1,2,3,4,5,6,7,8,9] #\n",
    "\n",
    "x = reduce(lambda a,b: a*b,l) # using the reduce function find the prodict of all the elements\n",
    "\n",
    "print(f\" The product of the elements {x}\") # print the result\n"
   ]
  },
  {
   "cell_type": "code",
   "execution_count": 17,
   "id": "93140036-93e3-4e90-abcf-a7e5dc929b9a",
   "metadata": {},
   "outputs": [
    {
     "name": "stdout",
     "output_type": "stream",
     "text": [
      "9\n"
     ]
    }
   ],
   "source": [
    "# Question 3\n",
    "\n",
    "# Create a Python program that uses `reduce()` to find the maximum element in a list of numbers.\n",
    "\n",
    "from functools import reduce # import the functools\n",
    "\n",
    "# take a sample list\n",
    "\n",
    "l = [1,2,3,4,5,6,7,8,9]\n",
    "\n",
    "x = reduce(lambda a,b:a if a>b else b,l) # print the result \n",
    "\n",
    "print(x)"
   ]
  },
  {
   "cell_type": "code",
   "execution_count": 18,
   "id": "dc37c452-93a8-4631-b560-1395c3771198",
   "metadata": {},
   "outputs": [
    {
     "name": "stdout",
     "output_type": "stream",
     "text": [
      "The concatenated string is  sajiismyname\n"
     ]
    }
   ],
   "source": [
    "# Question 4\n",
    "\n",
    "# How can you use the `reduce()` function to concatenate a list of strings into a single string?\n",
    "\n",
    "from functools import reduce # import the functools\n",
    "\n",
    "# take a sample list of strings\n",
    "\n",
    "l = ['saji','is','my','name']\n",
    "\n",
    "x = reduce(lambda a,b :a+b,l) \n",
    "\n",
    "print(\"The concatenated string is \",x)"
   ]
  },
  {
   "cell_type": "code",
   "execution_count": 5,
   "id": "f9067290-1f64-4d04-8a93-29562bc32c60",
   "metadata": {},
   "outputs": [
    {
     "name": "stdin",
     "output_type": "stream",
     "text": [
      "Enter the number 5\n"
     ]
    },
    {
     "name": "stdout",
     "output_type": "stream",
     "text": [
      "The factorial of the number is 120\n"
     ]
    }
   ],
   "source": [
    "# Question 5\n",
    "\n",
    "# Write a Python program that calculates the factorial of a number using the `reduce()` function.\n",
    "\n",
    "from functools import reduce # import the functools module\n",
    "\n",
    "n = int(input(\"Enter the number\"))\n",
    "\n",
    "x = reduce(lambda a,b:a*b , range(1,n+1))\n",
    "\n",
    "\n",
    "print(f\"The factorial of the number is {x}\")"
   ]
  },
  {
   "cell_type": "code",
   "execution_count": null,
   "id": "6cf3133d-035e-41b7-9922-ced494d000db",
   "metadata": {},
   "outputs": [],
   "source": [
    "# Question 6\n",
    "# Create a Python program that uses `reduce()` to find the GCD (Greatest Common Divisor) of a list of numbers.\n",
    "\n",
    "# import reduce from functools\n",
    "\n",
    "from functools imp\n",
    "# initialize a sample list of numbers\n",
    " l =[1,2,3,4,5,6]\n",
    "    \n",
    "    \n"
   ]
  },
  {
   "cell_type": "code",
   "execution_count": null,
   "id": "2b8ad1fa-a14d-4b7c-8b3c-ce1a6278910d",
   "metadata": {},
   "outputs": [],
   "source": []
  },
  {
   "cell_type": "code",
   "execution_count": 7,
   "id": "6ea7159d-2ce5-457c-b07b-4a59859aa01b",
   "metadata": {},
   "outputs": [
    {
     "name": "stdout",
     "output_type": "stream",
     "text": [
      "The filtered even number list is printed\n",
      "[2, 4, 6, 8]\n"
     ]
    }
   ],
   "source": [
    "# FILTER\n",
    "\n",
    "# Question 1 \n",
    "\n",
    "# Explain the purpose of the `filter()` function in Python and provide an example of how it can be used to filter elements from an iterable.\n",
    "\n",
    "\n",
    "# The filter function is used to filter a data based on the condition\n",
    "# It take two arguments the function and the iterable\n",
    "# it the data satisfies the  is kept and the data that doesnt satisfy the condition are removed\n",
    "\n",
    "# for example\n",
    "\n",
    "# initialize a sample list \n",
    "l = [1,2,3,4,5,6,7,8]\n",
    "\n",
    "# if we want to filter the even numbers out\n",
    "\n",
    "x = list(filter(lambda a : a%2==0,l)) # lambda function is used to filter out the even numbers\n",
    "\n",
    "print(\"The filtered even number list is printed\")\n",
    "print(x)\n",
    "\n",
    "\n"
   ]
  },
  {
   "cell_type": "code",
   "execution_count": null,
   "id": "c2563179-8a90-46a6-952c-7838a91f8ede",
   "metadata": {},
   "outputs": [],
   "source": [
    "# Question 2\n",
    "\n",
    "# Write a Python program that uses the `filter()` function to select even numbers from a list of integers.\n",
    "\n",
    "# initialize a list of integers\n",
    "\n",
    "l = [1,2,3,4,5,6,7,8]\n",
    "\n",
    "\n",
    "x = list(filter(lambda a : a%2==0,l)) # lambda function is used to filter out the even numbers\n",
    "\n",
    "print(\"The filtered even number list is printed\")\n",
    "print(x)\n"
   ]
  },
  {
   "cell_type": "code",
   "execution_count": 1,
   "id": "387f1621-ee0b-41b5-a6e1-4e63763bd669",
   "metadata": {},
   "outputs": [
    {
     "data": {
      "text/plain": [
       "['saji', 'sam', 'shady']"
      ]
     },
     "execution_count": 1,
     "metadata": {},
     "output_type": "execute_result"
    }
   ],
   "source": [
    "# Question 3 \n",
    "\n",
    "#  Create a Python program that uses the `filter()` function to select names that start with a specific letter from a list of strings.\n",
    "\n",
    "# initialize a list of strings\n",
    "\n",
    "l = ['saji','sam','shady','mani','logan']\n",
    "\n",
    "list(filter(lambda a: a[0]==\"s\",l)) # The letter 's' is passed to and the elements starting with s are filtered out\n",
    "\n"
   ]
  },
  {
   "cell_type": "code",
   "execution_count": 6,
   "id": "b9bbd593-7070-4c4b-9d9b-4c97172d8488",
   "metadata": {},
   "outputs": [
    {
     "data": {
      "text/plain": [
       "[2, 3, 5, 11]"
      ]
     },
     "execution_count": 6,
     "metadata": {},
     "output_type": "execute_result"
    }
   ],
   "source": [
    "# Question 4\n",
    "\n",
    "# Write a Python program that uses the `filter()` function to select prime numbers from a list of integers.\n",
    "\n",
    "# initialize a sample list\n",
    "\n",
    "l = [1,2,3,4,5,6,11]\n",
    "\n",
    "\n",
    "\n",
    "def prime(n):  # funtion prime is defined to calculate the prime numbers\n",
    "    if n>1:\n",
    "        for i in range(2,n): # if the numbers has factors return false else return number\n",
    "            if n%i==0:\n",
    "                return False\n",
    "        else:\n",
    "            return n\n",
    "\n",
    "        \n",
    "list(filter(prime,l)) # convert the filtered prime numbers to list\n"
   ]
  },
  {
   "cell_type": "code",
   "execution_count": 2,
   "id": "4eb6fd75-f7c0-4b68-a6ce-4528ddcc4c8a",
   "metadata": {},
   "outputs": [],
   "source": [
    "# Question 5\n",
    "\n",
    "# how can you use the `filter()` function to remove None values from a list in Python?\n",
    "\n",
    "# initialize a sample list\n",
    "l = [1,2,3,[],4]\n"
   ]
  },
  {
   "cell_type": "code",
   "execution_count": 3,
   "id": "ddbbd254-dccd-4bf1-857d-bd8b5e7307d9",
   "metadata": {},
   "outputs": [
    {
     "data": {
      "text/plain": [
       "['gokul', 'mithun']"
      ]
     },
     "execution_count": 3,
     "metadata": {},
     "output_type": "execute_result"
    }
   ],
   "source": [
    "# Question 6 \n",
    "\n",
    "# Create a Python program that uses `filter()` to select words longer than a certain length from a list of strings.\n",
    "\n",
    "# initialize a list \n",
    "\n",
    "words = ['saji','mani','gokul','mithun']\n",
    "\n",
    "# The words which have length greater than 4 are filtered into a list\n",
    "list(filter(lambda a: len(a)>4,words))\n"
   ]
  },
  {
   "cell_type": "code",
   "execution_count": 5,
   "id": "3a5aae53-3621-48fd-89b5-473027060a9b",
   "metadata": {},
   "outputs": [
    {
     "name": "stdin",
     "output_type": "stream",
     "text": [
      "Enter the threshold size 3\n"
     ]
    },
    {
     "data": {
      "text/plain": [
       "[]"
      ]
     },
     "execution_count": 5,
     "metadata": {},
     "output_type": "execute_result"
    }
   ],
   "source": [
    "# Question 7\n",
    "\n",
    "# Write a Python program that uses the `filter()` function to select elements greater than a specified threshold from a list of values.\n",
    " \n",
    "l = ['This','world','is', 'a' ,'wonderful', ' place',]\n",
    "\n",
    "threshold = int(input(\"Enter the threshold size\"))\n",
    "\n",
    "# The words with the thershold values are filtered\n",
    "\n",
    "list(filter(lambda a: len(a)==threshold,l)) "
   ]
  },
  {
   "cell_type": "code",
   "execution_count": 1,
   "id": "d98d5c38-7e39-4e08-93b2-80f56e097630",
   "metadata": {},
   "outputs": [],
   "source": [
    "# RECURSION\n",
    "\n",
    "# Question 1\n",
    "\n",
    "# Explain the concept of recursion in Python. How does it differ from iteration?\n",
    "\n",
    "# Recursion means calling a defined funtion inside the function itself\n",
    "\n",
    "# a base case is defined and the function keeps recurring until the base case is met\n",
    "\n",
    "\n",
    "#Recursion is when a function calls itself within its code and it  repeatedly executes the instructions present inside it. \n",
    "\n",
    "# iteration is a process done using loops like for or while to execule a set of instructions"
   ]
  },
  {
   "cell_type": "code",
   "execution_count": 3,
   "id": "9d8cd4a8-ccc9-4690-a7d9-d66e2d53d013",
   "metadata": {},
   "outputs": [
    {
     "data": {
      "text/plain": [
       "120"
      ]
     },
     "execution_count": 3,
     "metadata": {},
     "output_type": "execute_result"
    }
   ],
   "source": [
    "# Question 2\n",
    "\n",
    "# Write a Python program to calculate the factorial of a number using recursion.\n",
    "\n",
    "def fact(n): # defining a functiom fact which accepts an argument \n",
    "    if n==1: # if the number is 1 the factorial is 1\n",
    "        return 1\n",
    "    else:\n",
    "        return n*fact(n-1) # otherwise call the function recursively by subracting one from the number and multiplying it with the number\n",
    "\n",
    "fact(5)"
   ]
  },
  {
   "cell_type": "code",
   "execution_count": 4,
   "id": "c0b14d8c-6cee-41f9-8e94-bd3c7e71bb1a",
   "metadata": {},
   "outputs": [
    {
     "data": {
      "text/plain": [
       "3"
      ]
     },
     "execution_count": 4,
     "metadata": {},
     "output_type": "execute_result"
    }
   ],
   "source": [
    "# Question 3\n",
    "\n",
    "# reate a recursive Python function to find the nth Fibonacci number.\n",
    "\n",
    "def fib(n): # define a function fib which accepts a single argument n\n",
    "    if n<=1:  # if the numbers is less than or equal to 1 return the number\n",
    "        return n\n",
    "    else:\n",
    "        return fib(n-1) + fib(n-2) # if not calculate the fibonaccci \n",
    "    \n",
    "fib(4) #  call the function and print the result\n"
   ]
  },
  {
   "cell_type": "code",
   "execution_count": 10,
   "id": "530ac101-e194-49de-9ca1-859a673e118e",
   "metadata": {},
   "outputs": [
    {
     "ename": "TypeError",
     "evalue": "'int' object is not iterable",
     "output_type": "error",
     "traceback": [
      "\u001b[0;31m---------------------------------------------------------------------------\u001b[0m",
      "\u001b[0;31mTypeError\u001b[0m                                 Traceback (most recent call last)",
      "Cell \u001b[0;32mIn[10], line 12\u001b[0m\n\u001b[1;32m      9\u001b[0m         \u001b[38;5;28;01mreturn\u001b[39;00m \u001b[38;5;28msum\u001b[39m(l[\u001b[38;5;241m0\u001b[39m]),sum_of(l[\u001b[38;5;241m1\u001b[39m:])\n\u001b[1;32m     10\u001b[0m l \u001b[38;5;241m=\u001b[39m [\u001b[38;5;241m1\u001b[39m,\u001b[38;5;241m2\u001b[39m]\n\u001b[0;32m---> 12\u001b[0m \u001b[43msum_of\u001b[49m\u001b[43m(\u001b[49m\u001b[43ml\u001b[49m\u001b[43m)\u001b[49m\n",
      "Cell \u001b[0;32mIn[10], line 9\u001b[0m, in \u001b[0;36msum_of\u001b[0;34m(l)\u001b[0m\n\u001b[1;32m      7\u001b[0m     \u001b[38;5;28;01mreturn\u001b[39;00m l[\u001b[38;5;241m0\u001b[39m]\n\u001b[1;32m      8\u001b[0m \u001b[38;5;28;01melse\u001b[39;00m:\n\u001b[0;32m----> 9\u001b[0m     \u001b[38;5;28;01mreturn\u001b[39;00m \u001b[38;5;28;43msum\u001b[39;49m\u001b[43m(\u001b[49m\u001b[43ml\u001b[49m\u001b[43m[\u001b[49m\u001b[38;5;241;43m0\u001b[39;49m\u001b[43m]\u001b[49m\u001b[43m)\u001b[49m,sum_of(l[\u001b[38;5;241m1\u001b[39m:])\n",
      "\u001b[0;31mTypeError\u001b[0m: 'int' object is not iterable"
     ]
    }
   ],
   "source": [
    "# Question 4\n",
    "\n",
    "# Write a recursive Python function to calculate the sum of all elements in a list.\n",
    "\n",
    "def sum_of(l:list): # define a function sum_of which accepts a list as an argument\n",
    "    if len(l)==1: # The base case is if the length of the list is 1 returh 0\n",
    "        return l[0]\n",
    "    else:\n",
    "        return sum(l[0]),sum_of(l[1:])\n",
    "l = [1,2]\n",
    "\n",
    "sum_of(l)"
   ]
  },
  {
   "cell_type": "code",
   "execution_count": null,
   "id": "f3bd882e-1815-4470-aac7-2ba60660be42",
   "metadata": {},
   "outputs": [],
   "source": [
    "# Question 5\n",
    "\n",
    "# How can you prevent a recursive function from running indefinitely, causing a stack overflow error?\n",
    "\n",
    "# Recursion is the process of calling a function inside the function. For using recursion efficiently we need to define a base condition\n",
    "\n",
    "# The base condition is the end point for the recursive call\n",
    "\n",
    "# if the base condition is not set right the recursion goes on and on and a stack overflow error is encountered\n"
   ]
  },
  {
   "cell_type": "code",
   "execution_count": 23,
   "id": "840f3dc2-567d-493b-b169-cf92f9d27153",
   "metadata": {},
   "outputs": [
    {
     "data": {
      "text/plain": [
       "6"
      ]
     },
     "execution_count": 23,
     "metadata": {},
     "output_type": "execute_result"
    }
   ],
   "source": [
    "# Question 6\n",
    "\n",
    "# Create a recursive Python function to find the greatest common divisor (GCD) of two numbers using the Euclidean algorithm.\n",
    "\n",
    "def gcd(a,b): # define a function gcd taking two arguments \n",
    "    if b==0: # if the value of b is 0 then the gcd is a otherwise call the gcd recursively with the b value and the divisor of a and b\n",
    "        return a\n",
    "    else:\n",
    "        return gcd(b,a%b)\n",
    "        \n",
    "        \n",
    "gcd(6,12) # Print the value"
   ]
  },
  {
   "cell_type": "code",
   "execution_count": 28,
   "id": "d8829ebd-bf80-41eb-8d0c-211644de71b3",
   "metadata": {},
   "outputs": [
    {
     "data": {
      "text/plain": [
       "'ijas'"
      ]
     },
     "execution_count": 28,
     "metadata": {},
     "output_type": "execute_result"
    }
   ],
   "source": [
    "# Question 7\n",
    "\n",
    "# Write a recursive Python function to reverse a string.\n",
    "\n",
    "def string_reversal(s:str): # define a function string_reversal accepting a string as argument\n",
    "    if s==\"\":\n",
    "        return \"\" # if the string is empty return the empty string\n",
    "    \n",
    "    else:\n",
    "        return string_reversal(s[1:]) + s[0] # otherwise call the string _reversal function recursively and concatentate the 0th index of the string\n",
    "    \n",
    "string_reversal(\"saji\")"
   ]
  },
  {
   "cell_type": "code",
   "execution_count": 16,
   "id": "87d4dc0b-7439-4ace-9956-c3da02242c4b",
   "metadata": {},
   "outputs": [
    {
     "data": {
      "text/plain": [
       "4"
      ]
     },
     "execution_count": 16,
     "metadata": {},
     "output_type": "execute_result"
    }
   ],
   "source": [
    "# Question 8\n",
    "\n",
    "# Create a recursive Python function to calculate the power of a number (x^n).\n",
    "\n",
    "def power_calc(x,n):\n",
    "    if n==0:\n",
    "        return 1\n",
    "    else:\n",
    "        return x * power_calc(x,n-1)\n",
    "        \n",
    "\n",
    "power_calc(2,2)\n"
   ]
  },
  {
   "cell_type": "code",
   "execution_count": null,
   "id": "fdc9c055-c9ca-4592-b51a-c792c6b683e4",
   "metadata": {},
   "outputs": [],
   "source": [
    "# Question 9\n",
    "\n",
    "# Write a recursive Python function to find all permutations of a given string.\n"
   ]
  },
  {
   "cell_type": "code",
   "execution_count": 27,
   "id": "29ad7814-f4f5-4f29-b60e-b6971196bdbf",
   "metadata": {},
   "outputs": [],
   "source": [
    "# FUNCTIONS\n",
    "\n",
    "# What is a function in Python, and why is it used?\n",
    "\n",
    "# functions help in the modularity of a program \n",
    "\n",
    "# functions help in the reusability of the code\n",
    "\n",
    "# it reduces the length of the code                      "
   ]
  },
  {
   "cell_type": "code",
   "execution_count": 3,
   "id": "de154975-7da5-4e6f-bb1a-9f1ba83e0e44",
   "metadata": {},
   "outputs": [
    {
     "data": {
      "text/plain": [
       "'ijas'"
      ]
     },
     "execution_count": 3,
     "metadata": {},
     "output_type": "execute_result"
    }
   ],
   "source": [
    "# Question 2\n",
    "\n",
    "# How do you define a function in Python? Provide an example.\n",
    "\n",
    "# The def keyword is used the define the function \n",
    "# def keyword followed the function name\n",
    "\n",
    "# for example\n",
    "\n",
    "def string_reverse(string:str): # This function accepts an argument as string\n",
    "    return string[::-1]\n",
    "\n",
    "\n",
    "# we need to call the function to use it\n",
    "\n",
    "string_reverse(\"saji\") # The argument is passed and the string is reversed"
   ]
  },
  {
   "cell_type": "code",
   "execution_count": null,
   "id": "b2c2c3fe-049d-43d3-993d-5aafa8cb83f2",
   "metadata": {},
   "outputs": [],
   "source": [
    "# Question 3\n",
    "\n",
    "# Explain the difference between a function definition and a function call.\n",
    "\n",
    "# function definition is defined using def keyword with the necessary parameters\n",
    "# The necessary operations are written under that function\n",
    "\n",
    "# function call is a process where the function is called to perform the operations \n",
    "\n",
    "# for ex:\n",
    "# def function_name(parameters):\n",
    "  # body\n",
    "    \n",
    "\n",
    "# function_name(\"saji\")   The function is called and the argument is passed\n",
    "\n",
    "# A function can be called multiple times \n",
    "\n"
   ]
  },
  {
   "cell_type": "code",
   "execution_count": 2,
   "id": "d5f10000-5403-4341-b661-ddf116deec23",
   "metadata": {},
   "outputs": [
    {
     "data": {
      "text/plain": [
       "7"
      ]
     },
     "execution_count": 2,
     "metadata": {},
     "output_type": "execute_result"
    }
   ],
   "source": [
    "# Question 4\n",
    "\n",
    "# Write a Python program that defines a function to calculate the sum of two numbers and then calls the function.\n",
    "\n",
    "# Define a function sum_of_numbers to calculate the sum of the functions\n",
    "\n",
    "def sum_of_numbers(num1,num2):\n",
    "    return num1+num2      # The sum is returned using the return function\n",
    "\n",
    "sum_of_numbers(2,5) # The sum of the numbers is calculated by passing the arguments \n",
    "\n",
    "\n"
   ]
  },
  {
   "cell_type": "code",
   "execution_count": null,
   "id": "5f8353f2-a15e-4a80-84a5-bb41d80a2ee8",
   "metadata": {},
   "outputs": [],
   "source": [
    "# Question 5\n",
    "\n",
    "# What is a function signature, and what information does it typically include?\n",
    "\n",
    "# A python signature is the type of paramters a function accepts and the return type it provides\n"
   ]
  },
  {
   "cell_type": "code",
   "execution_count": 3,
   "id": "a1ebe0a4-e9bc-48f7-9bed-e2b25dced5d3",
   "metadata": {},
   "outputs": [
    {
     "data": {
      "text/plain": [
       "6"
      ]
     },
     "execution_count": 3,
     "metadata": {},
     "output_type": "execute_result"
    }
   ],
   "source": [
    "# Question 6 \n",
    "\n",
    "# Create a Python function that takes two arguments and returns their product.\n",
    "\n",
    "def num_product(num1,num2): # This function take two arguments and returns their product\n",
    "    return num1*num2\n",
    "\n",
    "\n",
    "num_product(3,2) # The function is called and the arguments are passed"
   ]
  },
  {
   "cell_type": "code",
   "execution_count": 4,
   "id": "8730300a-ad4f-4bdd-91df-3c160c69f5d6",
   "metadata": {},
   "outputs": [],
   "source": [
    "# Function Parameters and Arguments:\n",
    "\n",
    "# Question 1\n",
    "\n",
    "# Explain the concepts of formal parameters and actual arguments in Python functions.\n",
    "\n",
    "# For example lets define a function that adds two integers\n",
    "\n",
    "def num_add(a,b):  # The a, b in this function are parameters they are not the actual arguments or the variable names\n",
    "    return a+b         # They are created when the function is created\n",
    "        \n",
    "        \n",
    "\n",
    "num _add(3,4) # Here the actual arguments are passed they are passed when the function is called    \n",
    "\n"
   ]
  },
  {
   "cell_type": "code",
   "execution_count": 5,
   "id": "c72e9578-be00-4461-930c-677b91cf7b60",
   "metadata": {},
   "outputs": [
    {
     "data": {
      "text/plain": [
       "4"
      ]
     },
     "execution_count": 5,
     "metadata": {},
     "output_type": "execute_result"
    }
   ],
   "source": [
    "# Question 2\n",
    "\n",
    "# Write a Python program that defines a function with default argument values.\n",
    "\n",
    "def add_num(a,b,c =1): # Here the parameter c has default value of 1\n",
    "    return a+b+c\n",
    "\n",
    "add_num(1,2) # The result is printed c has the default value"
   ]
  },
  {
   "cell_type": "code",
   "execution_count": 1,
   "id": "ddbdd3d9-ec11-491f-b41c-422b4e8657df",
   "metadata": {},
   "outputs": [
    {
     "data": {
      "text/plain": [
       "7"
      ]
     },
     "execution_count": 1,
     "metadata": {},
     "output_type": "execute_result"
    }
   ],
   "source": [
    "# Question 3\n",
    "\n",
    "# How do you use keyword arguments in Python function calls? Provide an example.\n",
    "\n",
    "def add_sum(a,b,c): # define a function taking 3 arguments  \n",
    "    return a+b+c\n",
    "\n",
    "add_sum(b=4,c=2,a=1)  # while calling the function we can provide the argument in whichever way we like by using the kweywords"
   ]
  },
  {
   "cell_type": "code",
   "execution_count": 7,
   "id": "b642f3a4-a881-4c81-ae7f-ed0b7d9ba267",
   "metadata": {},
   "outputs": [
    {
     "data": {
      "text/plain": [
       "15"
      ]
     },
     "execution_count": 7,
     "metadata": {},
     "output_type": "execute_result"
    }
   ],
   "source": [
    "# Question 4\n",
    "\n",
    "# Create a Python function that accepts a variable number of arguments and calculates their sum.\n",
    "\n",
    "def calc_sum(*args): # the * args is used to accept multiple arguments from the user\n",
    "    return sum(args)\n",
    "    \n",
    "\n",
    "calc_sum(1,2,3,4,5,) # The sum is calculated "
   ]
  },
  {
   "cell_type": "code",
   "execution_count": null,
   "id": "0904991f-0d36-4307-960b-210867daa4a6",
   "metadata": {},
   "outputs": [],
   "source": [
    "# Question 5\n",
    "\n",
    "# What is the purpose of the `*args` and `**kwargs` syntax in function parameter lists?\n",
    "\n",
    "# *args is used to give multiple positional arguments\n",
    "\n",
    "# The result is a tuple\n",
    "\n",
    "# **kwargs is used to give multiple keyword arguments\n",
    "# The result is a dictionary\n",
    "\n",
    "\n"
   ]
  },
  {
   "cell_type": "code",
   "execution_count": null,
   "id": "68f0d5d0-6122-4118-837e-a42daedae0d0",
   "metadata": {},
   "outputs": [],
   "source": [
    "# Return Values and Scoping\n",
    "\n",
    "# Question 1\n",
    "\n",
    "# describe the role of the `return` statement in Python functions and provide examples.\n",
    "\n",
    "# Return statement returns the value of the operation that is performed in a function\n",
    "\n",
    "# for example\n",
    " \n",
    "\n",
    "def add(num1,num2):\n",
    "    return num1+num2 # The return statement returns the output as it is and other operations can be perfomed with the return value"
   ]
  },
  {
   "cell_type": "code",
   "execution_count": 4,
   "id": "4294659b-c8dc-4789-a1af-c41d6b2edbd9",
   "metadata": {},
   "outputs": [
    {
     "name": "stdout",
     "output_type": "stream",
     "text": [
      "2\n"
     ]
    },
    {
     "data": {
      "text/plain": [
       "7"
      ]
     },
     "execution_count": 4,
     "metadata": {},
     "output_type": "execute_result"
    }
   ],
   "source": [
    "# Question 2\n",
    "\n",
    "# Explain the concept of variable scope in Python, including local and global variables.\n",
    "\n",
    "\n",
    "\n",
    "# local variables can be accessed only within the function or the local scope\n",
    "\n",
    "# for example,\n",
    "\n",
    "def add(a,b):  # a simple function to add numbers\n",
    "    c = 20  # The variable c is initialized to 20   inside this function we can access this value\n",
    "    return a+b+c\n",
    "\n",
    "# print(c) # We can t print c because it cant be accessed outside the function so it is called a local variable \n",
    "\n",
    "c = 2\n",
    "\n",
    "def add(a,b):\n",
    "    return a+b+c\n",
    "    \n",
    "print(c) # here we can print c because it is a global variable it is declared outside the function body\n",
    "\n",
    "add(2,3)\n",
    "# it can be accessed inside the function as well\n",
    "\n"
   ]
  },
  {
   "cell_type": "code",
   "execution_count": 11,
   "id": "1d014420-f262-43f8-8cc9-68e68b9633df",
   "metadata": {},
   "outputs": [
    {
     "name": "stdout",
     "output_type": "stream",
     "text": [
      "orangepie\n",
      "The global variable is printed outside the function: pie\n"
     ]
    }
   ],
   "source": [
    "# Question 3\n",
    "\n",
    "# Write a Python program that demonstrates the use of global variables within functions.\n",
    "\n",
    "name = \"pie\" # creating a global variable name with value\n",
    "\n",
    "def name_concatenation(c):\n",
    "    print(c + name)# Here the user inputted character will get concatenated with the global variable name\n",
    "\n",
    "name_concatenation(\"orange\")\n",
    "\n",
    "# Here the global variable name is used inside the function\n",
    "\n",
    "print(\"The global variable is printed outside the function:\", name)"
   ]
  },
  {
   "cell_type": "code",
   "execution_count": 30,
   "id": "8dc173d0-0a17-4bc0-a5c1-1df65e1a4447",
   "metadata": {},
   "outputs": [
    {
     "data": {
      "text/plain": [
       "24"
      ]
     },
     "execution_count": 30,
     "metadata": {},
     "output_type": "execute_result"
    }
   ],
   "source": [
    "\n",
    "# Question 4\n",
    "\n",
    "# Create a Python function that calculates the factorial of a number and returns it.\n",
    "\n",
    "\n",
    "def fact(n): # A function fact is defined to calculate the factorial \n",
    "    total = 1\n",
    "    for i in range(1,n+1):\n",
    "        total*=i\n",
    "    return total # The calculated value is returned\n",
    "    \n",
    "\n",
    "fact(4)      "
   ]
  },
  {
   "cell_type": "code",
   "execution_count": 3,
   "id": "78ac85fd-6b30-4e45-8126-eff0fd15a94a",
   "metadata": {},
   "outputs": [
    {
     "data": {
      "text/plain": [
       "25"
      ]
     },
     "execution_count": 3,
     "metadata": {},
     "output_type": "execute_result"
    }
   ],
   "source": [
    "# Question 5\n",
    "\n",
    "# How can you access variables defined outside a function from within the function?\n",
    "\n",
    "x = 5 # define a global variable,\n",
    "\n",
    "def num_times_five(n): # define the functions num_times_five which mutiplies a given number by 5\n",
    "    return n*x # return the number multiplied by the global variable x\n",
    "\n",
    "num_times_five(5)"
   ]
  },
  {
   "cell_type": "code",
   "execution_count": null,
   "id": "b1866263-427c-40c0-91e7-fbb88ef2e9df",
   "metadata": {},
   "outputs": [],
   "source": [
    "# Lambda Functions and Higher-Order Functions:\n",
    "\n",
    "# Question 1\n",
    "\n",
    "# What are lambda functions in Python, and when are they typically used?\n",
    "\n",
    "# lambda functions are the same as user defined funtions but they dont have a name \n",
    "\n",
    "# They are anonymous functions\n",
    "\n",
    "# Lambda functions are efficient whenever you want to create a function that will only contain simple expressions which are usually a single line of a statement. \n",
    "\n"
   ]
  },
  {
   "cell_type": "code",
   "execution_count": null,
   "id": "ba036508-b663-4aa6-a553-ad60f72a4f2f",
   "metadata": {},
   "outputs": [],
   "source": [
    "# Question 2\n",
    "\n",
    "# Write a Python program that uses lambda functions to sort a list of tuples based on the second element.\n",
    "\n"
   ]
  },
  {
   "cell_type": "code",
   "execution_count": 1,
   "id": "b99683cf-ffd3-4ae8-ad4e-e8ec43bf74ca",
   "metadata": {},
   "outputs": [
    {
     "data": {
      "text/plain": [
       "'SAJI'"
      ]
     },
     "execution_count": 1,
     "metadata": {},
     "output_type": "execute_result"
    }
   ],
   "source": [
    "# Question 3\n",
    "\n",
    "# Explain the concept of higher-order functions in Python, and provide an example.\n",
    "\n",
    "# if a function contains a function as a parameter  or it returns a function as a output it is called a higher order function\n",
    "\n",
    "# we can store a function inside a variable\n",
    "\n",
    "# for example,\n",
    "def uppercase(text):  # define a function uppercase that takes an argument \n",
    "    return text.upper()  # a built in function upper is used inside it is the example of higher order function\n",
    "\n",
    "uppercase(\"saji\") # the text is converted into uppercase"
   ]
  },
  {
   "cell_type": "code",
   "execution_count": 4,
   "id": "29a37b2a-ad89-4f97-8c3e-116c26f59eb7",
   "metadata": {},
   "outputs": [
    {
     "name": "stdout",
     "output_type": "stream",
     "text": [
      "The converted list is [4, 16, 25, 36, 49, 64]\n"
     ]
    }
   ],
   "source": [
    "# Question 4\n",
    "\n",
    "# Create a Python function that takes a list of numbers and a function as arguments, applying the function to each element in the list.\n",
    "\n",
    "def number_square(n): # define a function upper_converter that converts the elements to their squares \n",
    "    return n**2\n",
    "\n",
    "l = [2,4,5,6,7,8] # defining a sample list with numbers \n",
    "\n",
    "z = list(map(number_square,l)) # using map () the function is performed individually on all the elements\n",
    "\n",
    "print(\"The converted list is\",z)"
   ]
  },
  {
   "cell_type": "code",
   "execution_count": null,
   "id": "1591fc0e-9743-47b9-bffe-ecb8b19d9290",
   "metadata": {},
   "outputs": [],
   "source": [
    "# Built-in Functions:\n",
    "\n",
    "# Describe the role of built-in functions like `len()`, `max()`, and `min()` in Python.\n",
    "\n",
    "# len()\n",
    "\n",
    "# len() function is used to find the number of elements present in an iterable\n",
    "\n",
    "# len returns a integer value\n",
    "\n",
    "# len cant be used on integer, float and boolean single elements\n",
    "\n",
    "\n",
    "# max()\n",
    "\n",
    "# The max() function returns the item with the  item with the highest value in an iterable\n",
    "\n",
    "# In the case of strings alphabetical comparison is done \n",
    "\n",
    "# when the values are not comparable the mxx() function returns an error\n",
    "\n",
    "# min()\n",
    "\n",
    "# The min() is used to find the minimum value in the iterable \n",
    "\n",
    "# In the case of alphabets the alphabetical comparison is done\n",
    "\n",
    "# If the values are not comparable the min() function returns an error\n",
    "\n"
   ]
  },
  {
   "cell_type": "code",
   "execution_count": 6,
   "id": "1c2cf6d8-8cec-4db1-940a-605193f99f63",
   "metadata": {},
   "outputs": [
    {
     "name": "stdout",
     "output_type": "stream",
     "text": [
      "The converted list is ['SAJI', 'GOKUL', 'MANI', 'MITHUN', 'VINEESH']\n"
     ]
    }
   ],
   "source": [
    "# Question 2\n",
    " \n",
    "# Write a Python program that uses the `map()` function to apply a function to each element of a list.\n",
    "\n",
    "l = ['saji','gokul','mani','mithun','vineesh'] # A sample list with strings is initialized\n",
    "\n",
    "# defining a functiom upper_convert to convert the letter to uppercase\n",
    "\n",
    "def upper_convert(c):\n",
    "    return c.upper()\n",
    "\n",
    "x = list(map(upper_convert,l)) # using the map() the function is performed individually on the elements\n",
    "\n",
    "print(\"The converted list is\",x)\n"
   ]
  },
  {
   "cell_type": "code",
   "execution_count": 16,
   "id": "47c343bf-112c-4375-812c-66a65a67733b",
   "metadata": {},
   "outputs": [
    {
     "name": "stdout",
     "output_type": "stream",
     "text": [
      "[2, 4, 56, 2]\n"
     ]
    }
   ],
   "source": [
    "# Question 3\n",
    "\n",
    "# How does the `filter()` function work in Python, and when would you use it?\n",
    "\n",
    "# The filter() , filters the iterable using a function and returns an iterable based on a specific condition\n",
    "\n",
    "# It is used when we want to filter out specific elements based on the conditions\n",
    "\n",
    "# for example,\n",
    "\n",
    "l = [1,2,3,4,56,2] # sample list is initialized\n",
    "\n",
    "x = list(filter(lambda a: a%2==0,l)) # the even numberws are filtered out based on the condition using the filter\n",
    "\n",
    "print(x) # The result is converted into list and printed\n",
    "\n"
   ]
  },
  {
   "cell_type": "code",
   "execution_count": 19,
   "id": "05a25c15-2655-4242-a7ab-e4b514e4be52",
   "metadata": {},
   "outputs": [
    {
     "name": "stdout",
     "output_type": "stream",
     "text": [
      "The product of all the elements is 192\n"
     ]
    }
   ],
   "source": [
    "# Question 4\n",
    "\n",
    "# Create a Python program that uses the `reduce()` function to find the product of all elements in a list.\n",
    "\n",
    "from functools import reduce # import the functools module\n",
    "\n",
    "l = [1,2,3,4,8] # initialize a sample list\n",
    "\n",
    "x = reduce(lambda a,b:a*b ,l)\n",
    "\n",
    "print(f\"The product of all the elements is {x}\")\n"
   ]
  },
  {
   "cell_type": "code",
   "execution_count": 21,
   "id": "7171f6b5-9a52-4f8d-95ae-2e9b2ae6864e",
   "metadata": {},
   "outputs": [
    {
     "data": {
      "text/plain": [
       "0"
      ]
     },
     "execution_count": 21,
     "metadata": {},
     "output_type": "execute_result"
    }
   ],
   "source": [
    "# Function Documentation and Best Practices:\n",
    "\n",
    "# Explain the purpose of docstrings in Python functions and how to write them.\n",
    "\n",
    "# docstrings help in the documentation of the functions\n",
    "\n",
    "# It helps the user to understand what the function does \n",
    "\n",
    "# they can be written using triple double quotes \"\"\"    \"\"\"\n",
    "\n",
    "# This is how docstrings are written\n",
    "\n",
    "def sample():\n",
    "    \"\"\" This function does nothing just a sample\"\"\"\n",
    "    return 0\n",
    "\n",
    "sample()\n"
   ]
  },
  {
   "cell_type": "code",
   "execution_count": null,
   "id": "78d3adb8-34df-4207-ae4b-7c86970238df",
   "metadata": {},
   "outputs": [],
   "source": [
    "# Question 2\n",
    "\n",
    "# Describe some best practices for naming functions and variables in Python, including naming conventions and guidelines.\n",
    "\n",
    "# Variables can be named such a way that they must be unique\n",
    "# variable should not be a reserved keyword\n",
    "# They should not have spaces in between\n",
    "# we can add underscore\n",
    "\n",
    "# Functions\n",
    "# functions should not have the same name they should also be different\n",
    "\n",
    "\n",
    "\n",
    "\n",
    "\n",
    "\n",
    "\n",
    "\n",
    "\n",
    "\n",
    "\n"
   ]
  }
 ],
 "metadata": {
  "kernelspec": {
   "display_name": "Python 3 (ipykernel)",
   "language": "python",
   "name": "python3"
  },
  "language_info": {
   "codemirror_mode": {
    "name": "ipython",
    "version": 3
   },
   "file_extension": ".py",
   "mimetype": "text/x-python",
   "name": "python",
   "nbconvert_exporter": "python",
   "pygments_lexer": "ipython3",
   "version": "3.10.8"
  }
 },
 "nbformat": 4,
 "nbformat_minor": 5
}
